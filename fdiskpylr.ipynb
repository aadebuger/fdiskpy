{
 "cells": [
  {
   "cell_type": "code",
   "execution_count": 1,
   "id": "amended-pilot",
   "metadata": {
    "ExecuteTime": {
     "end_time": "2021-07-25T14:34:08.393876Z",
     "start_time": "2021-07-25T14:34:08.321703Z"
    }
   },
   "outputs": [
    {
     "name": "stdout",
     "output_type": "stream",
     "text": [
      "{'name': 'gary', 'gender': 'male', 'age': '25', 'weight': '68.5'}\n"
     ]
    }
   ],
   "source": [
    "from pygrok import Grok\n",
    "text = 'gary is male, 25 years old and weighs 68.5 kilograms'\n",
    "pattern = '%{WORD:name} is %{WORD:gender}, %{NUMBER:age} years old and weighs %{NUMBER:weight} kilograms'\n",
    "grok = Grok(pattern)\n",
    "print(grok.match(text))"
   ]
  },
  {
   "cell_type": "code",
   "execution_count": 3,
   "id": "taken-position",
   "metadata": {
    "ExecuteTime": {
     "end_time": "2021-07-15T05:27:50.578185Z",
     "start_time": "2021-07-15T05:27:50.574164Z"
    }
   },
   "outputs": [],
   "source": [
    "text=\"Disk /dev/sda: 28.84 GiB, 30943995904 bytes, 60437492 sectors\""
   ]
  },
  {
   "cell_type": "code",
   "execution_count": 14,
   "id": "seeing-enemy",
   "metadata": {
    "ExecuteTime": {
     "end_time": "2021-07-15T07:52:35.606011Z",
     "start_time": "2021-07-15T07:52:35.594917Z"
    }
   },
   "outputs": [],
   "source": [
    "pattern = 'Disk %{UNIXPATH:name}: %{NUMBER:gsize} GiB, %{NUMBER:bsize} bytes, %{NUMBER:ssize} sectors'"
   ]
  },
  {
   "cell_type": "code",
   "execution_count": 15,
   "id": "given-tongue",
   "metadata": {
    "ExecuteTime": {
     "end_time": "2021-07-15T07:52:36.531722Z",
     "start_time": "2021-07-15T07:52:36.500536Z"
    }
   },
   "outputs": [
    {
     "name": "stdout",
     "output_type": "stream",
     "text": [
      "{'name': '/dev/sda', 'gsize': '28.84', 'bsize': '30943995904', 'ssize': '60437492'}\n"
     ]
    }
   ],
   "source": [
    "grok = Grok(pattern)\n",
    "print(grok.match(text))"
   ]
  },
  {
   "cell_type": "code",
   "execution_count": 16,
   "id": "animal-fraction",
   "metadata": {
    "ExecuteTime": {
     "end_time": "2021-07-15T08:24:30.185750Z",
     "start_time": "2021-07-15T08:24:30.171254Z"
    }
   },
   "outputs": [],
   "source": [
    "text=\"Disk model: DataTraveler 3.0\"\n",
    "pattern=\"Disk model: %{WORD:name}\""
   ]
  },
  {
   "cell_type": "code",
   "execution_count": 17,
   "id": "complimentary-element",
   "metadata": {
    "ExecuteTime": {
     "end_time": "2021-07-15T08:24:38.578302Z",
     "start_time": "2021-07-15T08:24:38.506012Z"
    }
   },
   "outputs": [
    {
     "name": "stdout",
     "output_type": "stream",
     "text": [
      "{'name': 'DataTraveler'}\n"
     ]
    }
   ],
   "source": [
    "grok = Grok(pattern)\n",
    "print(grok.match(text))"
   ]
  },
  {
   "cell_type": "code",
   "execution_count": 31,
   "id": "hungry-mother",
   "metadata": {
    "ExecuteTime": {
     "end_time": "2021-07-15T08:35:44.420647Z",
     "start_time": "2021-07-15T08:35:44.399226Z"
    }
   },
   "outputs": [],
   "source": [
    "pat={\"ModeLINE\": \"\"\"[a-zA-Z0-9._-\\s]+\"\"\"}\n",
    "pattern=\"Disk model: %{ModeLINE:name}\"\n",
    "grok = Grok(pattern,custom_patterns=pat)"
   ]
  },
  {
   "cell_type": "code",
   "execution_count": 32,
   "id": "rational-administration",
   "metadata": {
    "ExecuteTime": {
     "end_time": "2021-07-15T08:35:46.615134Z",
     "start_time": "2021-07-15T08:35:46.609221Z"
    }
   },
   "outputs": [
    {
     "name": "stdout",
     "output_type": "stream",
     "text": [
      "{'name': 'DataTraveler 3.0'}\n"
     ]
    }
   ],
   "source": [
    "print(grok.match(text))"
   ]
  },
  {
   "cell_type": "code",
   "execution_count": 50,
   "id": "orange-jersey",
   "metadata": {
    "ExecuteTime": {
     "end_time": "2021-07-15T12:37:53.633187Z",
     "start_time": "2021-07-15T12:37:53.606331Z"
    }
   },
   "outputs": [],
   "source": [
    "text=\"lrwxrwxrwx 1 root root  9 Jul 14 12:35 1c14bd11-2b70-4a05-b7d3-8fb3bf561b5f -> ../../sda\"\n",
    "#text=\"1c14bd11-2b70-4a05-b7d3-8fb3bf561b5f -> ../../sda\""
   ]
  },
  {
   "cell_type": "code",
   "execution_count": 55,
   "id": "corrected-creation",
   "metadata": {
    "ExecuteTime": {
     "end_time": "2021-07-15T12:39:18.833696Z",
     "start_time": "2021-07-15T12:39:18.829080Z"
    }
   },
   "outputs": [],
   "source": [
    "pattern = \"%{USERNAME:fsuuid} -> ../../%{WORD:name}\""
   ]
  },
  {
   "cell_type": "code",
   "execution_count": 56,
   "id": "higher-samba",
   "metadata": {
    "ExecuteTime": {
     "end_time": "2021-07-15T12:39:19.918961Z",
     "start_time": "2021-07-15T12:39:19.906018Z"
    }
   },
   "outputs": [
    {
     "name": "stdout",
     "output_type": "stream",
     "text": [
      "{'fsuuid': '1c14bd11-2b70-4a05-b7d3-8fb3bf561b5f', 'name': 'sda'}\n"
     ]
    }
   ],
   "source": [
    "grok = Grok(pattern)\n",
    "print(grok.match(text))"
   ]
  },
  {
   "cell_type": "code",
   "execution_count": 45,
   "id": "distributed-examination",
   "metadata": {
    "ExecuteTime": {
     "end_time": "2021-07-24T04:24:03.144876Z",
     "start_time": "2021-07-24T04:24:03.141542Z"
    }
   },
   "outputs": [],
   "source": [
    "text=\"/dev/sdl        5,5T  102G  5,4T   2% /mnt/hddl\"\n",
    "\n",
    "#text=\"/dev/sdl /mnt/hddl\""
   ]
  },
  {
   "cell_type": "code",
   "execution_count": 48,
   "id": "moving-azerbaijan",
   "metadata": {
    "ExecuteTime": {
     "end_time": "2021-07-24T04:24:26.773930Z",
     "start_time": "2021-07-24T04:24:26.770389Z"
    }
   },
   "outputs": [],
   "source": [
    "pattern = '%{UNIXPATH:name} %{DATA:gsize1} %{DATA:gsize2} %{DATA:gsize3}  %{DATA:gsize4} %{UNIXPATH:fsname}'\n",
    "#pattern = '%{UNIXPATH:name} %{UNIXPATH:fsname}'"
   ]
  },
  {
   "cell_type": "code",
   "execution_count": 49,
   "id": "authentic-journey",
   "metadata": {
    "ExecuteTime": {
     "end_time": "2021-07-24T04:24:27.338220Z",
     "start_time": "2021-07-24T04:24:27.326720Z"
    }
   },
   "outputs": [
    {
     "name": "stdout",
     "output_type": "stream",
     "text": [
      "{'name': '/dev/sdl', 'gsize1': '', 'gsize2': '', 'gsize3': '', 'gsize4': '   5,5T  102G  5,4T   2%', 'fsname': '/mnt/hddl'}\n"
     ]
    }
   ],
   "source": [
    "grok = Grok(pattern)\n",
    "print(grok.match(text))"
   ]
  },
  {
   "cell_type": "code",
   "execution_count": 3,
   "id": "social-frame",
   "metadata": {
    "ExecuteTime": {
     "end_time": "2021-07-25T15:10:44.620116Z",
     "start_time": "2021-07-25T15:10:44.613836Z"
    }
   },
   "outputs": [],
   "source": [
    "pat={\"DSize\": \"\"\"[a-zA-Z0-9._-\\s]+\"\"\"}"
   ]
  },
  {
   "cell_type": "code",
   "execution_count": 4,
   "id": "generous-document",
   "metadata": {
    "ExecuteTime": {
     "end_time": "2021-07-25T15:10:46.443977Z",
     "start_time": "2021-07-25T15:10:46.417352Z"
    }
   },
   "outputs": [],
   "source": [
    "pattern = '%{UNIXPATH:name} %{DSize:gsize1} %{DATA:gsize2} %{DATA:gsize3}  %{DATA:gsize4} %{UNIXPATH:fsname}'\n",
    "grok = Grok(pattern,custom_patterns=pat)"
   ]
  },
  {
   "cell_type": "code",
   "execution_count": 5,
   "id": "tired-divorce",
   "metadata": {
    "ExecuteTime": {
     "end_time": "2021-07-25T15:10:53.866641Z",
     "start_time": "2021-07-25T15:10:53.858560Z"
    }
   },
   "outputs": [
    {
     "name": "stdout",
     "output_type": "stream",
     "text": [
      "None\n"
     ]
    }
   ],
   "source": [
    "print(grok.match(text))"
   ]
  },
  {
   "cell_type": "code",
   "execution_count": 9,
   "id": "aging-jonathan",
   "metadata": {
    "ExecuteTime": {
     "end_time": "2021-07-25T15:14:19.915149Z",
     "start_time": "2021-07-25T15:14:19.894153Z"
    }
   },
   "outputs": [],
   "source": [
    "pat={\"DSize\": \"[0-9,]*[TG]\"}\n",
    "pattern=\"%{DSize:gsize1}\"\n",
    "grok = Grok(pattern,custom_patterns=pat)"
   ]
  },
  {
   "cell_type": "code",
   "execution_count": 10,
   "id": "viral-clinic",
   "metadata": {
    "ExecuteTime": {
     "end_time": "2021-07-25T15:14:20.757962Z",
     "start_time": "2021-07-25T15:14:20.752904Z"
    }
   },
   "outputs": [
    {
     "name": "stdout",
     "output_type": "stream",
     "text": [
      "{'gsize1': '5,5T'}\n"
     ]
    }
   ],
   "source": [
    "text=\"5,5T\"\n",
    "print(grok.match(text))"
   ]
  },
  {
   "cell_type": "code",
   "execution_count": 30,
   "id": "beautiful-manitoba",
   "metadata": {
    "ExecuteTime": {
     "end_time": "2021-07-25T15:32:46.520302Z",
     "start_time": "2021-07-25T15:32:46.497679Z"
    }
   },
   "outputs": [],
   "source": [
    "pat={\"DSize\": \"[0-9,]*[TG]\",\"Spaces\":\"[\\s]*\",\"Percent\":\"[0-9%]*\"}\n",
    "pattern='%{UNIXPATH:name}\\s*%{DSize:gsize1}\\s*%{DSize:gsize2}\\s*%{DSize:gsize3}\\s*%{Percent:gsize4}\\s*%{UNIXPATH:fsname}'\n",
    "grok = Grok(pattern,custom_patterns=pat)"
   ]
  },
  {
   "cell_type": "code",
   "execution_count": 31,
   "id": "impressive-context",
   "metadata": {
    "ExecuteTime": {
     "end_time": "2021-07-25T15:32:47.144441Z",
     "start_time": "2021-07-25T15:32:47.139041Z"
    }
   },
   "outputs": [
    {
     "name": "stdout",
     "output_type": "stream",
     "text": [
      "{'name': '/dev/sdl', 'gsize1': '5,5T', 'gsize2': '102G', 'gsize3': '5,4T', 'gsize4': '2%', 'fsname': '/mnt/hddl'}\n"
     ]
    }
   ],
   "source": [
    "text=\"/dev/sdl        5,5T  102G  5,4T   2% /mnt/hddl\"\n",
    "print(grok.match(text))"
   ]
  },
  {
   "cell_type": "code",
   "execution_count": 32,
   "id": "ambient-lecture",
   "metadata": {
    "ExecuteTime": {
     "end_time": "2021-07-26T02:48:44.153379Z",
     "start_time": "2021-07-26T02:48:44.111254Z"
    }
   },
   "outputs": [],
   "source": [
    "text=\"\"\"time=\"2021-07-26T10:47:37+08:00\" level=info msg=\"new mining info\" capacity=\"58.23 TB\" file=loggers.go func=logging.CPrint height=624414 jobId=3\n",
    "048561817 line=168 scan consume=484 scan time=\"2021-07-26 10:47:29\" tid=153922\"\"\""
   ]
  },
  {
   "cell_type": "code",
   "execution_count": 46,
   "id": "pursuant-pendant",
   "metadata": {
    "ExecuteTime": {
     "end_time": "2021-07-26T03:39:04.821511Z",
     "start_time": "2021-07-26T03:39:04.814177Z"
    }
   },
   "outputs": [],
   "source": [
    "pattern=\"\"\"time=\\\"%{TIMESTAMP_ISO8601:logtimestamp}\\\" level=%{LOGLEVEL:loglevel} msg=\\\"%{DATA:msg}\\\" capacity=\\\"%{DATA:cap}\\\"\"\"\""
   ]
  },
  {
   "cell_type": "code",
   "execution_count": 47,
   "id": "stunning-stranger",
   "metadata": {
    "ExecuteTime": {
     "end_time": "2021-07-26T03:39:05.495672Z",
     "start_time": "2021-07-26T03:39:05.477632Z"
    }
   },
   "outputs": [
    {
     "name": "stdout",
     "output_type": "stream",
     "text": [
      "{'logtimestamp': '2021-07-26T10:47:37+08:00', 'loglevel': 'info', 'msg': 'new mining info', 'cap': '58.23 TB'}\n"
     ]
    }
   ],
   "source": [
    "grok = Grok(pattern)\n",
    "print(grok.match(text))"
   ]
  },
  {
   "cell_type": "code",
   "execution_count": null,
   "id": "genuine-electron",
   "metadata": {},
   "outputs": [],
   "source": []
  }
 ],
 "metadata": {
  "kernelspec": {
   "display_name": "Python 3",
   "language": "python",
   "name": "python3"
  },
  "language_info": {
   "codemirror_mode": {
    "name": "ipython",
    "version": 3
   },
   "file_extension": ".py",
   "mimetype": "text/x-python",
   "name": "python",
   "nbconvert_exporter": "python",
   "pygments_lexer": "ipython3",
   "version": "3.6.5"
  }
 },
 "nbformat": 4,
 "nbformat_minor": 5
}
